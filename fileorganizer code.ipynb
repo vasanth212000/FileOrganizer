{
 "cells": [
  {
   "cell_type": "code",
   "execution_count": 32,
   "id": "3d5dc50c-d087-4ce8-a6bb-76fc1c27ae08",
   "metadata": {},
   "outputs": [
    {
     "name": "stdout",
     "output_type": "stream",
     "text": [
      "Moved pbix files to C:/Users/user/Documents/forage/pwc\\pbix files files\n",
      "Moved PNG files to C:/Users/user/Documents/forage/pwc\\PNG files files\n",
      "Moved txt files to C:/Users/user/Documents/forage/pwc\\txt files files\n",
      "Moved xlsx files to C:/Users/user/Documents/forage/pwc\\xlsx files files\n"
     ]
    }
   ],
   "source": [
    "import os\n",
    "import shutil\n",
    "\n",
    "# ===========================\n",
    "# Configuration\n",
    "# ===========================\n",
    "path = r\"C:/Users/user/Documents/forage/pwc\"\n",
    "\n",
    "# ===========================\n",
    "# Get List of Files\n",
    "# ===========================\n",
    "list_name = os.listdir(path)\n",
    "\n",
    "# ===========================\n",
    "# Extract Unique File Extensions\n",
    "# ===========================\n",
    "extensions = set()\n",
    "for file in list_name:\n",
    "    ext = file.split('.')[-1]\n",
    "    extensions.add(ext)\n",
    "\n",
    "# ===========================\n",
    "# Create Directories for Each Extension\n",
    "# ===========================\n",
    "new_folders = [f\"{ext} files\" for ext in extensions]\n",
    "for folder in new_folders:\n",
    "    folder_path = os.path.join(path, folder)\n",
    "    if not os.path.exists(folder_path):\n",
    "        os.makedirs(folder_path)\n",
    "\n",
    "# ===========================\n",
    "# Move Files into Corresponding Directories\n",
    "# ===========================\n",
    "for file in list_name:\n",
    "    for ext in extensions:\n",
    "        # Check if the extension is in the file name and if the file doesn't already exist in the destination\n",
    "        if ext in file and not os.path.exists(os.path.join(path, f\"{ext} files\", file)):\n",
    "            file_path = os.path.join(path, file)  # Source file path\n",
    "            destination_folder = os.path.join(path, f\"{ext} files\")  # Destination folder path\n",
    "            final_path = os.path.join(destination_folder, file)  # Final destination path\n",
    "\n",
    "            # Move the file to the corresponding directory\n",
    "            shutil.move(file_path, final_path)\n",
    "            print(f\"Moved {file} to {destination_folder}\")\n"
   ]
  },
  {
   "cell_type": "code",
   "execution_count": null,
   "id": "e76ec91d-e980-402d-a165-cb18136f9d43",
   "metadata": {},
   "outputs": [],
   "source": []
  }
 ],
 "metadata": {
  "kernelspec": {
   "display_name": "Python 3 (ipykernel)",
   "language": "python",
   "name": "python3"
  },
  "language_info": {
   "codemirror_mode": {
    "name": "ipython",
    "version": 3
   },
   "file_extension": ".py",
   "mimetype": "text/x-python",
   "name": "python",
   "nbconvert_exporter": "python",
   "pygments_lexer": "ipython3",
   "version": "3.12.4"
  }
 },
 "nbformat": 4,
 "nbformat_minor": 5
}
